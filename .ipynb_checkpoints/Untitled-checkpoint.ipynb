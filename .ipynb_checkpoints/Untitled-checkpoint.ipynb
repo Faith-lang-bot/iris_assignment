{
 "cells": [
  {
   "cell_type": "code",
   "execution_count": null,
   "id": "135739d5-f125-4e5e-9586-ba5b135a4d41",
   "metadata": {},
   "outputs": [],
   "source": [
    "import pandas as pd\n",
    "import matplotlib.pyplot as plt\n",
    "import seaborn as sns\n",
    "from sklearn.datasets import load_iris\n"
   ]
  },
  {
   "cell_type": "code",
   "execution_count": null,
   "id": "2979893c-d326-413a-be95-f466e38d3122",
   "metadata": {},
   "outputs": [],
   "source": [
    "# Load the Iris dataset\n",
    "iris = load_iris()\n",
    "df = pd.DataFrame(iris.data, columns=iris.feature_names)\n",
    "df['species'] = pd.Categorical.from_codes(iris.target, iris.target_names)\n",
    "\n",
    "# Display first 5 rows\n",
    "df.head()\n"
   ]
  },
  {
   "cell_type": "code",
   "execution_count": null,
   "id": "700bb12f-df8a-41a2-a513-6be4c2192903",
   "metadata": {},
   "outputs": [],
   "source": [
    "# Data types\n",
    "print(df.dtypes)\n",
    "\n",
    "# Missing values\n",
    "print(\"\\nMissing values:\")\n",
    "print(df.isnull().sum())\n"
   ]
  },
  {
   "cell_type": "code",
   "execution_count": null,
   "id": "0492fab2-a7e5-4d42-9b93-a4b3ec8c744a",
   "metadata": {},
   "outputs": [],
   "source": [
    "# Summary statistics\n",
    "df.describe()\n"
   ]
  },
  {
   "cell_type": "code",
   "execution_count": null,
   "id": "8e4fa70d-cb30-4278-a8ec-8604628e0142",
   "metadata": {},
   "outputs": [],
   "source": [
    "# Mean values by species\n",
    "df.groupby('species').mean()\n"
   ]
  },
  {
   "cell_type": "code",
   "execution_count": null,
   "id": "3e42cc48-a6c6-4780-85cb-78f61769f8e5",
   "metadata": {},
   "outputs": [],
   "source": [
    "df['index'] = df.index\n",
    "plt.figure(figsize=(10,5))\n",
    "sns.lineplot(data=df, x='index', y='petal length (cm)', hue='species')\n",
    "plt.title('Petal Length Over Observations')\n",
    "plt.xlabel('Observation Index')\n",
    "plt.ylabel('Petal Length (cm)')\n",
    "plt.show()\n"
   ]
  },
  {
   "cell_type": "code",
   "execution_count": null,
   "id": "e44b304c-c9cb-4dc6-8a9f-b067fce9217e",
   "metadata": {},
   "outputs": [],
   "source": [
    "plt.figure(figsize=(8,5))\n",
    "sns.barplot(data=df, x='species', y='petal length (cm)')\n",
    "plt.title('Average Petal Length by Species')\n",
    "plt.xlabel('Species')\n",
    "plt.ylabel('Petal Length (cm)')\n",
    "plt.show()\n"
   ]
  },
  {
   "cell_type": "code",
   "execution_count": null,
   "id": "dc756159-3023-40a7-9b9d-4c6a8f025a89",
   "metadata": {},
   "outputs": [],
   "source": [
    "plt.figure(figsize=(8,5))\n",
    "plt.hist(df['sepal width (cm)'], bins=15, color='skyblue', edgecolor='black')\n",
    "plt.title('Distribution of Sepal Width')\n",
    "plt.xlabel('Sepal Width (cm)')\n",
    "plt.ylabel('Frequency')\n",
    "plt.show()\n"
   ]
  },
  {
   "cell_type": "code",
   "execution_count": null,
   "id": "e12e9d78-3ff1-4eea-aace-828d9b28f73e",
   "metadata": {},
   "outputs": [],
   "source": [
    "plt.figure(figsize=(8,5))\n",
    "sns.scatterplot(data=df, x='sepal length (cm)', y='petal length (cm)', hue='species')\n",
    "plt.title('Sepal Length vs Petal Length')\n",
    "plt.xlabel('Sepal Length (cm)')\n",
    "plt.ylabel('Petal Length (cm)')\n",
    "plt.show()\n"
   ]
  },
  {
   "cell_type": "code",
   "execution_count": null,
   "id": "c9b5c111-cad3-4fe6-92e5-f6ddc8a194f7",
   "metadata": {},
   "outputs": [],
   "source": [
    "## 📊 Findings:\n",
    "\n",
    "- No missing data in the dataset.\n",
    "- Setosa species has the smallest petals.\n",
    "- Virginica has the largest petal and sepal dimensions.\n",
    "- Species are clearly separated by petal length.\n"
   ]
  }
 ],
 "metadata": {
  "kernelspec": {
   "display_name": "Python 3 (ipykernel)",
   "language": "python",
   "name": "python3"
  },
  "language_info": {
   "codemirror_mode": {
    "name": "ipython",
    "version": 3
   },
   "file_extension": ".py",
   "mimetype": "text/x-python",
   "name": "python",
   "nbconvert_exporter": "python",
   "pygments_lexer": "ipython3",
   "version": "3.13.6"
  }
 },
 "nbformat": 4,
 "nbformat_minor": 5
}
